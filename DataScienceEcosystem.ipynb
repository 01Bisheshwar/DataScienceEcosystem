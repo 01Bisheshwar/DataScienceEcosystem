{
  "metadata": {
    "kernelspec": {
      "name": "python",
      "display_name": "Python (Pyodide)",
      "language": "python"
    },
    "language_info": {
      "codemirror_mode": {
        "name": "python",
        "version": 3
      },
      "file_extension": ".py",
      "mimetype": "text/x-python",
      "name": "python",
      "nbconvert_exporter": "python",
      "pygments_lexer": "ipython3",
      "version": "3.8"
    }
  },
  "nbformat_minor": 4,
  "nbformat": 4,
  "cells": [
    {
      "cell_type": "markdown",
      "source": "# Data Science Tools and Ecosystem",
      "metadata": {}
    },
    {
      "cell_type": "markdown",
      "source": "In this notebook, Data Science Tools and Ecosystem are summarized.",
      "metadata": {}
    },
    {
      "cell_type": "markdown",
      "source": "## Objectives:\n- Understand the popular languages used in Data Science.\n- Explore commonly used libraries in the Data Science ecosystem.\n- Identify key open-source tools for Data Science development environments.\n- Learn and apply arithmetic expressions in Python.\n- Convert units and perform basic calculations for time conversion.",
      "metadata": {}
    },
    {
      "cell_type": "markdown",
      "source": "## Data Science Languages Overview\n\nSome of the popular languages that Data Scientists use are:\n\n1. **Python**: Widely used for its simplicity, extensive libraries (such as NumPy, Pandas, and Matplotlib), and versatility in data analysis, machine learning, and visualization.\n\n2. **R**: Known for its statistical computing capabilities, R is widely used in data analysis and visualization in fields such as statistics and bioinformatics.\n\n3. **SQL**: While not a traditional programming language, SQL (Structured Query Language) is crucial for working with databases in data science, allowing for efficient data retrieval and manipulation.\n\n4. **Julia**: Gaining popularity for its speed and performance, Julia is used in scientific computing, data analysis, and machine learning.\n\n5. **Java**: Java, with its strong ecosystem and versatility, is employed in big data processing frameworks like Apache Hadoop and Apache Spark.",
      "metadata": {}
    },
    {
      "cell_type": "markdown",
      "source": "## Data Science Libraries Overview\n\nSome of the commonly used libraries used by Data Scientists include:\n\n1. **NumPy**: A fundamental package for scientific computing in Python, providing support for large, multi-dimensional arrays and matrices.\n\n2. **Pandas**: A powerful library for data manipulation and analysis, offering data structures like DataFrames for efficient data handling.\n\n3. **Matplotlib**: A widely-used plotting library for creating static, animated, and interactive visualizations in Python.\n\n4. **Scikit-learn**: A machine learning library that includes various tools for classification, regression, clustering, and more.\n\n5. **TensorFlow**: An open-source machine learning framework developed by Google for building and training deep learning models.\n\n6. **PyTorch**: Another popular deep learning framework, known for its dynamic computational graph and ease of use.\n\n7. **Seaborn**: Built on top of Matplotlib, Seaborn is used for statistical data visualization, providing a high-level interface.",
      "metadata": {}
    },
    {
      "cell_type": "markdown",
      "source": "## Data Science Tools\n\n| Data Science Tools   |\n|----------------------|\n| Jupyter Notebooks    |\n| RStudio              |\n| Visual Studio Code   |",
      "metadata": {}
    },
    {
      "cell_type": "markdown",
      "source": "### Arithmetic Expression Examples\nBelow are a few examples of evaluating arithmetic expressions in Python.",
      "metadata": {}
    },
    {
      "cell_type": "code",
      "source": "# This is a simple arithmetic expression to multiply 3 by 4 and then add 5.\nresult = (3 * 4) + 5\nresult",
      "metadata": {
        "trusted": true
      },
      "outputs": [
        {
          "execution_count": 14,
          "output_type": "execute_result",
          "data": {
            "text/plain": "17"
          },
          "metadata": {}
        }
      ],
      "execution_count": 14
    },
    {
      "cell_type": "code",
      "source": "# This will convert 200 minutes to hours by dividing by 60.\nminutes = 200\nhours = minutes / 60\nhours",
      "metadata": {
        "trusted": true
      },
      "outputs": [
        {
          "execution_count": 13,
          "output_type": "execute_result",
          "data": {
            "text/plain": "3.3333333333333335"
          },
          "metadata": {}
        }
      ],
      "execution_count": 13
    },
    {
      "cell_type": "markdown",
      "source": "## Author\n\nBisheshwar Dev Sharma\n",
      "metadata": {}
    }
  ]
}